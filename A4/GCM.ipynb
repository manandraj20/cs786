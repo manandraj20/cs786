{
 "cells": [
  {
   "cell_type": "code",
   "execution_count": 91,
   "metadata": {},
   "outputs": [],
   "source": [
    "import numpy as np\n",
    "import pandas as pd\n",
    "from scipy.spatial.distance import euclidean"
   ]
  },
  {
   "cell_type": "code",
   "execution_count": 92,
   "metadata": {},
   "outputs": [],
   "source": [
    "# Load training data\n",
    "X_train = pd.read_csv('./X.csv', header=None)\n",
    "weights_train = X_train.iloc[:, 0].values\n",
    "heights_train = X_train.iloc[:, 1].values\n",
    "categories_train = X_train.iloc[:, 2].values"
   ]
  },
  {
   "cell_type": "code",
   "execution_count": 93,
   "metadata": {},
   "outputs": [],
   "source": [
    "# Define similarity function with weight preference\n",
    "def similarity(x1, x2, weight_pref=0.7):\n",
    "    \"\"\"\n",
    "    Calculate weighted Euclidean distance for similarity.\n",
    "    A higher weight_pref favors weight over height.\n",
    "    \"\"\"\n",
    "    weight_distance = (x1[0] - x2[0]) ** 2\n",
    "    height_distance = (x1[1] - x2[1]) ** 2\n",
    "    return np.exp(-weight_pref * weight_distance - (1 - weight_pref) * height_distance)"
   ]
  },
  {
   "cell_type": "code",
   "execution_count": 94,
   "metadata": {},
   "outputs": [],
   "source": [
    "# Politeness factor: threshold for assigning categories\n",
    "# This is a hypothetical adjustment value to favor 'average' over 'large'\n",
    "politeness_threshold = 0.5"
   ]
  },
  {
   "cell_type": "code",
   "execution_count": 95,
   "metadata": {},
   "outputs": [],
   "source": [
    "similarities_all = []"
   ]
  },
  {
   "cell_type": "code",
   "execution_count": 96,
   "metadata": {},
   "outputs": [],
   "source": [
    "# Prediction function\n",
    "def predict_category(test_point, X_train, y_train, weight_pref=0.9):\n",
    "    \"\"\"\n",
    "    Predicts category based on training data and weighted similarity.\n",
    "    \"\"\"\n",
    "    similarities = np.array([similarity(test_point, [weights_train[i], heights_train[i]], weight_pref)\n",
    "                             for i in range(len(weights_train))])\n",
    "    \n",
    "    # Find the most similar training points\n",
    "    best_matches = np.argsort(similarities)[::-1][:3]  # Taking top 3 matches\n",
    "    # print best matches and their similarities\n",
    "    print(test_point)\n",
    "    print(best_matches)\n",
    "    print(similarities[best_matches])\n",
    "    similarities_all.extend(similarities[best_matches])\n",
    "    avg_similarity = similarities[best_matches].mean()\n",
    "    \n",
    "    # Weighted voting with politeness adjustment\n",
    "    category_votes = categories_train[best_matches]\n",
    "    if avg_similarity < politeness_threshold and 3 in category_votes:\n",
    "        return 2  # Assign 'average' if similarity is low and 'large' is among top matches\n",
    "    else:\n",
    "        return np.bincount(category_votes).argmax()  # Return most common category among best matches"
   ]
  },
  {
   "cell_type": "code",
   "execution_count": 97,
   "metadata": {},
   "outputs": [],
   "source": [
    "# Load test data\n",
    "X_test = pd.read_csv('./y.csv', header=None)\n",
    "weights_test = X_test.iloc[:, 0].values\n",
    "heights_test = X_test.iloc[:, 1].values"
   ]
  },
  {
   "cell_type": "code",
   "execution_count": 98,
   "metadata": {},
   "outputs": [
    {
     "name": "stdout",
     "output_type": "stream",
     "text": [
      "[np.int64(74), np.int64(67)]\n",
      "[66 64 55]\n",
      "[0.02472353 0.011109   0.00020347]\n",
      "[np.int64(69), np.int64(63)]\n",
      "[12 11 38]\n",
      "[0.03337327 0.02732372 0.011109  ]\n",
      "[np.int64(92), np.int64(81)]\n",
      "[52 72 71]\n",
      "[3.22134029e-27 1.19120774e-29 5.36629584e-31]\n",
      "[np.int64(64), np.int64(61)]\n",
      "[35 19 40]\n",
      "[0.67032005 0.67032005 0.082085  ]\n",
      "[np.int64(66), np.int64(84)]\n",
      "[49 41 32]\n",
      "[2.26032941e-06 2.26032941e-06 2.26032941e-06]\n",
      "[np.int64(76), np.int64(68)]\n",
      "[66 64 58]\n",
      "[1.         0.67032005 0.082085  ]\n",
      "[np.int64(61), np.int64(58)]\n",
      "[18 39 40]\n",
      "[0.00744658 0.00030354 0.00020347]\n",
      "[np.int64(64), np.int64(76)]\n",
      "[32 41 23]\n",
      "[0.16529889 0.16529889 0.082085  ]\n",
      "[np.int64(68), np.int64(66)]\n",
      "[38 30 24]\n",
      "[0.40656966 0.40656966 0.36787944]\n",
      "[np.int64(34), np.int64(61)]\n",
      "[3 4 5]\n",
      "[4.69900273e-57 5.88967743e-67 2.22343247e-77]\n",
      "[np.int64(85), np.int64(61)]\n",
      "[69 70 71]\n",
      "[1.         0.36787944 0.20189652]\n"
     ]
    }
   ],
   "source": [
    "# Apply predictions to test data\n",
    "predicted_categories = [predict_category([weights_test[i], heights_test[i]], X_train, categories_train)\n",
    "                        for i in range(len(weights_test))]"
   ]
  },
  {
   "cell_type": "code",
   "execution_count": 100,
   "metadata": {},
   "outputs": [
    {
     "name": "stdout",
     "output_type": "stream",
     "text": [
      "Test data point 1 (weight: 74, height: 67): Predicted category = 2\n",
      "Test data point 2 (weight: 69, height: 63): Predicted category = 2\n",
      "Test data point 3 (weight: 92, height: 81): Predicted category = 2\n",
      "Test data point 4 (weight: 64, height: 61): Predicted category = 2\n",
      "Test data point 5 (weight: 66, height: 84): Predicted category = 2\n",
      "Test data point 6 (weight: 76, height: 68): Predicted category = 3\n",
      "Test data point 7 (weight: 61, height: 58): Predicted category = 2\n",
      "Test data point 8 (weight: 64, height: 76): Predicted category = 2\n",
      "Test data point 9 (weight: 68, height: 66): Predicted category = 2\n",
      "Test data point 10 (weight: 34, height: 61): Predicted category = 1\n",
      "Test data point 11 (weight: 85, height: 61): Predicted category = 3\n"
     ]
    }
   ],
   "source": [
    "# Output results\n",
    "for i, category in enumerate(predicted_categories):\n",
    "    print(f\"Test data point {i+1} (weight: {weights_test[i]}, height: {heights_test[i]}): Predicted category = {category}\")"
   ]
  },
  {
   "cell_type": "code",
   "execution_count": 101,
   "metadata": {},
   "outputs": [
    {
     "data": {
      "image/png": "[encoded data removed]",
      "text/plain": [
       "<Figure size 640x480 with 1 Axes>"
      ]
     },
     "metadata": {},
     "output_type": "display_data"
    }
   ],
   "source": [
    "#plot the similarities_all\n",
    "import matplotlib.pyplot as plt\n",
    "plt.plot(similarities_all)\n",
    "plt.show()\n"
   ]
  }
 ],
 "metadata": {
  "kernelspec": {
   "display_name": ".venv",
   "language": "python",
   "name": "python3"
  },
  "language_info": {
   "codemirror_mode": {
    "name": "ipython",
    "version": 3
   },
   "file_extension": ".py",
   "mimetype": "text/x-python",
   "name": "python",
   "nbconvert_exporter": "python",
   "pygments_lexer": "ipython3",
   "version": "3.12.3"
  }
 },
 "nbformat": 4,
 "nbformat_minor": 2
}
